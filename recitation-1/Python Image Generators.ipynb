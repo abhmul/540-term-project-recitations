{
 "cells": [
  {
   "cell_type": "code",
   "execution_count": 5,
   "metadata": {},
   "outputs": [],
   "source": [
    "# Some setup"
   ]
  },
  {
   "cell_type": "markdown",
   "metadata": {},
   "source": [
    "# Python Image Generators\n",
    "\n",
    "Have you tried to load the entire image dataset into numpy arrays? If you tried, you might have realized that it takes over **60GB of RAM**. In this tutorial we'll go over an easy way in Python to get around this problem and load images on the fly from disk (the file itself)."
   ]
  },
  {
   "cell_type": "markdown",
   "metadata": {},
   "source": [
    "### Prereqs\n",
    "\n",
    "To get the most out of this tutorial, you should be familiar with the following concepts:\n",
    "\n",
    "* Basic Python data structures\n",
    "  * What a list is\n",
    "  * What a dictionary is\n",
    "* Functions\n",
    "  * What a function is\n",
    "  * How to create and use functions\n",
    "* List Comprehensions\n",
    "  * What a list comprehension is\n",
    "  * How to create a simple list comprehension\n",
    "\n"
   ]
  },
  {
   "cell_type": "code",
   "execution_count": 6,
   "metadata": {},
   "outputs": [
    {
     "name": "stdout",
     "output_type": "stream",
     "text": [
      "List: [1, 2, 3, 6, 'abc']\n",
      "Dictionary: {1: 32, 'abc': [1, 2, 3]}\n",
      "Function \"hello\" returns: Hello World\n",
      "List Comprehension: [2, 4, 6, 12, 'abcabc']\n"
     ]
    }
   ],
   "source": [
    "# List\n",
    "a = [1, 2, 3, 6, 'abc']\n",
    "print('List:', a)\n",
    "# Dictionary\n",
    "b = {1: 32, 'abc': [1, 2, 3]}\n",
    "print('Dictionary:', b)\n",
    "\n",
    "# Function\n",
    "def hello():\n",
    "    return 'Hello World'\n",
    "print('Function \"hello\" returns:', hello())\n",
    "\n",
    "# List Comprehensions\n",
    "c = [item + item for item in a]\n",
    "print('List Comprehension:', c)"
   ]
  },
  {
   "cell_type": "markdown",
   "metadata": {},
   "source": [
    "## Some Basic Terms\n",
    "\n",
    "### Iteration and iterables\n",
    "Iteration is the repetition of some kind of process over and over again. Python's for loop gives us an easy way to iterate over various objects. Often, you'll iterate over a list, but we can also iterate over other Python objects such as strings and dictionaries."
   ]
  },
  {
   "cell_type": "code",
   "execution_count": 7,
   "metadata": {},
   "outputs": [
    {
     "name": "stdout",
     "output_type": "stream",
     "text": [
      "1\n",
      "2\n",
      "3\n"
     ]
    }
   ],
   "source": [
    "# Iterating over a list\n",
    "ez_list = [1, 2, 3]\n",
    "for i in ez_list:\n",
    "    print(i)"
   ]
  },
  {
   "cell_type": "code",
   "execution_count": 8,
   "metadata": {},
   "outputs": [
    {
     "name": "stdout",
     "output_type": "stream",
     "text": [
      "G\n",
      "e\n",
      "n\n",
      "e\n",
      "r\n",
      "a\n",
      "t\n",
      "o\n",
      "r\n",
      "s\n"
     ]
    }
   ],
   "source": [
    "# Iterating over a string\n",
    "ez_string = 'Generators'\n",
    "for s in ez_string:\n",
    "    print(s)"
   ]
  },
  {
   "cell_type": "code",
   "execution_count": 9,
   "metadata": {},
   "outputs": [
    {
     "name": "stdout",
     "output_type": "stream",
     "text": [
      "1 First\n",
      "2 Second\n"
     ]
    }
   ],
   "source": [
    "# Iterating over a dictionary\n",
    "ez_dict = {1 : 'First', 2 : 'Second'}\n",
    "for key, value in ez_dict.items():\n",
    "    print(key, value)"
   ]
  },
  {
   "cell_type": "markdown",
   "metadata": {},
   "source": [
    "In each of the above examples, the `for` loop iterates over the sequence we give it. The code above used a list, string, and dictionary, but you can iterate over tuples and sets as well. In each loop above, we `print` each of the items in the sequence in the order they appear. For example, you can confirm that the order of the `ez_list` is replicated in the order that its items are printed out.\n",
    "\n",
    "We refer to any object that can support iteration as an **iterable**."
   ]
  },
  {
   "cell_type": "markdown",
   "metadata": {},
   "source": [
    "### What defines an iterable?\n",
    "Iterables support something called the **Iterator Protocol**. The technical definition for the Iterator Protocol is out of the scope of this article, but it can be thought of as a set of *requirements* to be used for a `for` loop. That is to say: lists, strings and dictionaries all follow the Iterator Protocol, therefore we can use them in `for` loops. Conversely, objects that do not follow the protocol cannot be used in a `for` loop. One example of an object that does not follow the protocol is an integer.\n",
    "\n",
    "If we try to give an integer to a `for` loop, Python will throw an error."
   ]
  },
  {
   "cell_type": "code",
   "execution_count": 10,
   "metadata": {},
   "outputs": [
    {
     "ename": "TypeError",
     "evalue": "'int' object is not iterable",
     "output_type": "error",
     "traceback": [
      "\u001b[0;31m---------------------------------------------------------------------------\u001b[0m",
      "\u001b[0;31mTypeError\u001b[0m                                 Traceback (most recent call last)",
      "\u001b[0;32m<ipython-input-10-b97de08daa0b>\u001b[0m in \u001b[0;36m<module>\u001b[0;34m()\u001b[0m\n\u001b[1;32m      1\u001b[0m \u001b[0mnumber\u001b[0m \u001b[0;34m=\u001b[0m \u001b[0;36m12345\u001b[0m\u001b[0;34m\u001b[0m\u001b[0;34m\u001b[0m\u001b[0m\n\u001b[0;32m----> 2\u001b[0;31m \u001b[0;32mfor\u001b[0m \u001b[0mn\u001b[0m \u001b[0;32min\u001b[0m \u001b[0mnumber\u001b[0m\u001b[0;34m:\u001b[0m\u001b[0;34m\u001b[0m\u001b[0;34m\u001b[0m\u001b[0m\n\u001b[0m\u001b[1;32m      3\u001b[0m     \u001b[0mprint\u001b[0m\u001b[0;34m(\u001b[0m\u001b[0mn\u001b[0m\u001b[0;34m)\u001b[0m\u001b[0;34m\u001b[0m\u001b[0;34m\u001b[0m\u001b[0m\n",
      "\u001b[0;31mTypeError\u001b[0m: 'int' object is not iterable"
     ]
    }
   ],
   "source": [
    "number = 12345\n",
    "for n in number:\n",
    "    print(n)"
   ]
  },
  {
   "cell_type": "markdown",
   "metadata": {},
   "source": [
    "An integer is just a singular number, not a sequence. You may argue that the \"first\" number in `number` is 1, but it is not the same as the first item in a sequence. It doesn't make sense to ask \"What's after 1?\" from `number` since Python only understands integers as a single entities.\n",
    "\n",
    "Therefore, one of the requirements to be an iterable is to be able to describe to the `for` loop what the next item to perform the operation on is. For example, lists tell the `for` loop that the next item to iterate on is in the index+1 from the current one (1 comes after 0).\n",
    "\n",
    "Consequently, an iterable must also signal to a `for` loop when to *stop* iterating. This signal usually comes when we arrive at the end of a sequence (i.e. the end of a list or string). We will explore the specific functions that make something iterable later in this article, the important thing to know is that iterables describe *how* a `for` loop should traverse its contents.\n",
    "\n",
    "Generators are iterables themselves. As you'll see later, `for` loops are one of the main ways we use a generator, so they must be able to support iteration. We'll delve into how we can create our own generators in the next secton."
   ]
  },
  {
   "cell_type": "markdown",
   "metadata": {},
   "source": [
    "### Key takeaways: basic terms to know\n",
    "\n",
    "* Iteration is the idea of repeating some process over a sequence of items. In Python, iteration is usually related to the `for` loop.\n",
    "* An iterable is an object that supports iteration.\n",
    "* To be an iterable, it must describe to a for loop two things:\n",
    "  * What item comes next in the iteration.\n",
    "  * When should the loop stop iteration.\n",
    "* Generators are iterables."
   ]
  },
  {
   "cell_type": "markdown",
   "metadata": {},
   "source": [
    "## Generators and you\n",
    "\n",
    "If you've never encountered a generator before, the most common real-life example of a generator is a backup generator, which creates — *generates* — electricity for your house or office.\n",
    "\n",
    "Conceptually, Python generators generate values *one at a time* from a given sequence, instead of giving the entirety of the sequence at once. This one-at-a-time fashion of generators is what makes them so compatible with `for` loops. If this sounds confusing, don't worry too much. As we explain how to create generators, it will become more clear.\n",
    "\n",
    "There are two ways to create a generator. They differ in their syntax, but the end result is still a generator. We'll teach these concepts by covering their syntax and comparing them to a similar, but non-generator equivalent.\n",
    "\n",
    "* A generator *function* versus a regular function\n",
    "* A generator *expression* versus a list comprehension"
   ]
  },
  {
   "cell_type": "markdown",
   "metadata": {},
   "source": [
    "### The generator function\n",
    "\n",
    "A generator function is just like a regular function but with a key difference: the `yield` keyword replaces `return`."
   ]
  },
  {
   "cell_type": "code",
   "execution_count": 11,
   "metadata": {},
   "outputs": [],
   "source": [
    "# Regular function\n",
    "def function_a():\n",
    "    return \"a\"\n",
    "\n",
    "# Generator function\n",
    "def generator_a():\n",
    "    yield \"a\""
   ]
  },
  {
   "cell_type": "markdown",
   "metadata": {},
   "source": [
    "The two functions above perform exactly same action (returning/yielding the same string). However, if you try to inspect the generator function, it won't match what the regular function shows."
   ]
  },
  {
   "cell_type": "code",
   "execution_count": 12,
   "metadata": {},
   "outputs": [
    {
     "data": {
      "text/plain": [
       "'a'"
      ]
     },
     "execution_count": 12,
     "metadata": {},
     "output_type": "execute_result"
    }
   ],
   "source": [
    "function_a()"
   ]
  },
  {
   "cell_type": "code",
   "execution_count": 13,
   "metadata": {},
   "outputs": [
    {
     "data": {
      "text/plain": [
       "<generator object generator_a at 0x7fc3e0044410>"
      ]
     },
     "execution_count": 13,
     "metadata": {},
     "output_type": "execute_result"
    }
   ],
   "source": [
    "generator_a()"
   ]
  },
  {
   "cell_type": "markdown",
   "metadata": {},
   "source": [
    "Calling a regular function tells Python to go back to where the function is located in our code, perform the code within the block, and return the result. In order to get the generator function to yield its values, you need to pass it into the `next()` function.\n",
    "\n",
    "`next()` is a special function that asks, \"What's the next item in the iteration?\" In fact, `next()` is the precise function that is called when you run a for loop! Lists, dictionaries, strings, and the like all implement `next()`, so this is why you can incorporate them into loops in the first place."
   ]
  },
  {
   "cell_type": "code",
   "execution_count": 14,
   "metadata": {},
   "outputs": [
    {
     "data": {
      "text/plain": [
       "'a'"
      ]
     },
     "execution_count": 14,
     "metadata": {},
     "output_type": "execute_result"
    }
   ],
   "source": [
    "# Asking the generator what the next item is\n",
    "next(generator_a())"
   ]
  },
  {
   "cell_type": "code",
   "execution_count": 15,
   "metadata": {},
   "outputs": [
    {
     "ename": "TypeError",
     "evalue": "'function' object is not an iterator",
     "output_type": "error",
     "traceback": [
      "\u001b[0;31m---------------------------------------------------------------------------\u001b[0m",
      "\u001b[0;31mTypeError\u001b[0m                                 Traceback (most recent call last)",
      "\u001b[0;32m<ipython-input-15-1eb7ad9bfd24>\u001b[0m in \u001b[0;36m<module>\u001b[0;34m()\u001b[0m\n\u001b[1;32m      1\u001b[0m \u001b[0;31m# Do not do this\u001b[0m\u001b[0;34m\u001b[0m\u001b[0;34m\u001b[0m\u001b[0;34m\u001b[0m\u001b[0m\n\u001b[0;32m----> 2\u001b[0;31m \u001b[0mnext\u001b[0m\u001b[0;34m(\u001b[0m\u001b[0mgenerator_a\u001b[0m\u001b[0;34m)\u001b[0m\u001b[0;34m\u001b[0m\u001b[0;34m\u001b[0m\u001b[0m\n\u001b[0m",
      "\u001b[0;31mTypeError\u001b[0m: 'function' object is not an iterator"
     ]
    }
   ],
   "source": [
    "# Do not do this\n",
    "next(generator_a)"
   ]
  },
  {
   "cell_type": "markdown",
   "metadata": {},
   "source": [
    "Notice that we have to pass in generator function with the parentheses since the function itself is the generator. Providing only the function name will throw an error since you're trying to give `next()` a function name. As expected, the generator function will `yield` 'a' once we invoke the `next()` function.\n",
    "\n",
    "This example is not fully representative of what a generator is useful for. Remember that generators produce a stream of values, so `yield`ing a single value doesn't really qualify as a stream. To do this, we can actually put in multiple `yield` statements into a generator function. These `yield` statements form the sequence that the generator will output.\n",
    "\n",
    "We'll create a generator and bind it to a varible `mg`. Then, if we keep passing `mg` into `next()`, we'll get to the next yield. If we keep going past, we'll be given a `StopIteration` error to tell us that the generator has no more values to give. The `StopIteration` error is actually how a `for` loop knows when to stop iterating."
   ]
  },
  {
   "cell_type": "code",
   "execution_count": 16,
   "metadata": {},
   "outputs": [],
   "source": [
    "def multi_generate():\n",
    "    yield \"a\"\n",
    "    yield \"b\"\n",
    "    yield \"c\"\n",
    "\n",
    "mg = multi_generate()"
   ]
  },
  {
   "cell_type": "code",
   "execution_count": 17,
   "metadata": {},
   "outputs": [
    {
     "name": "stdout",
     "output_type": "stream",
     "text": [
      "a\n",
      "b\n",
      "c\n"
     ]
    },
    {
     "ename": "StopIteration",
     "evalue": "",
     "output_type": "error",
     "traceback": [
      "\u001b[0;31m---------------------------------------------------------------------------\u001b[0m",
      "\u001b[0;31mStopIteration\u001b[0m                             Traceback (most recent call last)",
      "\u001b[0;32m<ipython-input-17-4ccf14a1b0d8>\u001b[0m in \u001b[0;36m<module>\u001b[0;34m()\u001b[0m\n\u001b[1;32m      2\u001b[0m \u001b[0mprint\u001b[0m\u001b[0;34m(\u001b[0m\u001b[0mnext\u001b[0m\u001b[0;34m(\u001b[0m\u001b[0mmg\u001b[0m\u001b[0;34m)\u001b[0m\u001b[0;34m)\u001b[0m\u001b[0;34m\u001b[0m\u001b[0;34m\u001b[0m\u001b[0m\n\u001b[1;32m      3\u001b[0m \u001b[0mprint\u001b[0m\u001b[0;34m(\u001b[0m\u001b[0mnext\u001b[0m\u001b[0;34m(\u001b[0m\u001b[0mmg\u001b[0m\u001b[0;34m)\u001b[0m\u001b[0;34m)\u001b[0m\u001b[0;34m\u001b[0m\u001b[0;34m\u001b[0m\u001b[0m\n\u001b[0;32m----> 4\u001b[0;31m \u001b[0mprint\u001b[0m\u001b[0;34m(\u001b[0m\u001b[0mnext\u001b[0m\u001b[0;34m(\u001b[0m\u001b[0mmg\u001b[0m\u001b[0;34m)\u001b[0m\u001b[0;34m)\u001b[0m\u001b[0;34m\u001b[0m\u001b[0;34m\u001b[0m\u001b[0m\n\u001b[0m",
      "\u001b[0;31mStopIteration\u001b[0m: "
     ]
    }
   ],
   "source": [
    "print(next(mg))\n",
    "print(next(mg))\n",
    "print(next(mg))\n",
    "print(next(mg))"
   ]
  },
  {
   "cell_type": "markdown",
   "metadata": {},
   "source": [
    "It's easy to think of generators as a machine that waits for one command and one command only: `next()`. Once you call `next()` on the generator, it will dispense the next value in the sequence it is holding. Otherwise, you can't do much else with a generator. The image below represents our generator as a simple machine.\n",
    "\n",
    "![](gen_img.jpg)\n",
    "\n",
    "We've noted that as we keep passing in `mg` into next, we get the other `yield` results. This is possible only if the generator somehow remembers what it last did. This memory is what distinguishes generator functions from regular functions! Once you use a function, it's a one-and-done deal. Once you `return` the value from the function. A generator will keep `yield`ing values until its out.\n",
    "\n",
    "This brings us to another important property of generators. Once we've finished iterating through them, we can't use them anymore. Once we got through all three `yield` values in `mg`, it can't provide anything to us anymore. We'd have to store another instance of the `multi_generate` generator to begin asking `next()` statements of it again."
   ]
  },
  {
   "cell_type": "markdown",
   "metadata": {},
   "source": [
    "## Using Generators for our Image Data"
   ]
  },
  {
   "cell_type": "markdown",
   "metadata": {},
   "source": [
    "If you're following along with the data on your own computer, you'll need to replace `path_to_train` with the path on your computer to where the train images are located. This will enable Python to find it and all the train images"
   ]
  },
  {
   "cell_type": "code",
   "execution_count": 18,
   "metadata": {},
   "outputs": [
    {
     "name": "stdout",
     "output_type": "stream",
     "text": [
      "['../input/train/32035_sat.jpg', '../input/train/48645_sat.jpg', '../input/train/47123_sat.jpg', '../input/train/12484_sat.jpg', '../input/train/36428_sat.jpg', '../input/train/9944_sat.jpg', '../input/train/42523_sat.jpg', '../input/train/17437_sat.jpg', '../input/train/53145_sat.jpg', '../input/train/35001_sat.jpg']\n",
      "['../input/train/48661_msk.png', '../input/train/14024_msk.png', '../input/train/21577_msk.png', '../input/train/16316_msk.png', '../input/train/41428_msk.png', '../input/train/45905_msk.png', '../input/train/22563_msk.png', '../input/train/579_msk.png', '../input/train/43263_msk.png', '../input/train/32930_msk.png']\n"
     ]
    }
   ],
   "source": [
    "from glob import glob\n",
    "import os\n",
    "\n",
    "path_to_train = '../input/train'\n",
    "glob_train_imgs = os.path.join(path_to_train, '*_sat.jpg')\n",
    "glob_train_masks = os.path.join(path_to_train, '*_msk.png')\n",
    "\n",
    "train_img_paths = glob(glob_train_imgs)\n",
    "train_mask_paths = glob(glob_train_masks)\n",
    "print(train_img_paths[:10])\n",
    "print(train_mask_paths[:10])"
   ]
  },
  {
   "cell_type": "markdown",
   "metadata": {},
   "source": [
    "Our generator will work in the following way:\n",
    "* We iterate over the filenames for the images we want to load\n",
    "* Open the image file using a library like PIL or scikit-image\n",
    "* Open the corresponding mask\n",
    "* Yield the image and mask pair"
   ]
  },
  {
   "cell_type": "code",
   "execution_count": 19,
   "metadata": {},
   "outputs": [],
   "source": [
    "from skimage.io import imread\n",
    "\n",
    "# This will be useful so we can construct the corresponding mask\n",
    "def get_img_id(img_path):\n",
    "    img_basename = os.path.basename(img_path)\n",
    "    img_id = os.path.splitext(img_basename)[0][:-len('_sat')]\n",
    "    return img_id\n",
    "\n",
    "# Write it like a normal function\n",
    "def image_gen(img_paths):\n",
    "    # Iterate over all the image paths\n",
    "    for img_path in img_paths:\n",
    "        \n",
    "        # Construct the corresponding mask path\n",
    "        img_id = get_img_id(img_path)\n",
    "        mask_path = os.path.join(path_to_train, img_id + '_msk.png')\n",
    "        \n",
    "        # Load the image and mask, and normalize it to 0-1 range\n",
    "        img = imread(img_path) / 255.\n",
    "        mask = imread(mask_path, gray=True)[:, :, 0] / 255.  # Gray image has 3 identical channels\n",
    "        \n",
    "        # Yield the image mask pair\n",
    "        yield img, mask\n"
   ]
  },
  {
   "cell_type": "markdown",
   "metadata": {},
   "source": [
    "Let's test it out! We can use `matplotlib`'s `imshow` to visualize the images."
   ]
  },
  {
   "cell_type": "code",
   "execution_count": 20,
   "metadata": {},
   "outputs": [
    {
     "data": {
      "text/plain": [
       "<Figure size 640x480 with 1 Axes>"
      ]
     },
     "metadata": {},
     "output_type": "display_data"
    },
    {
     "data": {
      "text/plain": [
       "<Figure size 640x480 with 1 Axes>"
      ]
     },
     "metadata": {},
     "output_type": "display_data"
    }
   ],
   "source": [
    "import matplotlib.pyplot as plt\n",
    "\n",
    "\n",
    "ig = image_gen(train_img_paths)\n",
    "\n",
    "first_img, first_mask = next(ig)\n",
    "\n",
    "plt.imshow(first_img)\n",
    "plt.show()\n",
    "plt.imshow(first_mask, cmap='gray')\n",
    "plt.show()"
   ]
  },
  {
   "cell_type": "markdown",
   "metadata": {},
   "source": [
    "## Using our Generator with Keras + Tensorflow\n",
    "\n",
    "So we've just made a python generator to efficiently read our images from our disk rather than loading them all into memory. What do we do with it now? Use it to train a model! To do this we'll be using a deep learning library called Keras, built on top of Tensorflow. If you're not familiar with Tensorflow and Keras, take a look at some of these resources:\n",
    "\n",
    "* [Keras Tutorials](https://github.com/fchollet/keras-resources)\n",
    "* [Tensorflow Guide to Keras](https://www.tensorflow.org/guide/keras)\n",
    "* [Building a U-Net in Keras]()\n",
    "\n",
    "If you want to learn more about deep learning and convolutional neural networks, take a look at these resources:\n",
    "\n",
    "* [Stanford CS231n Course Notes](http://cs231n.github.io/)\n",
    "* [Stanford CS231n ConvNet Notes](http://cs231n.github.io/convolutional-networks/)\n",
    "* [An Intuitive Explanation of ConvNets](https://ujjwalkarn.me/2016/08/11/intuitive-explanation-convnets/)"
   ]
  },
  {
   "cell_type": "code",
   "execution_count": 21,
   "metadata": {},
   "outputs": [
    {
     "name": "stderr",
     "output_type": "stream",
     "text": [
      "Using TensorFlow backend.\n"
     ]
    }
   ],
   "source": [
    "# Create simple model\n",
    "from keras.layers import Conv2D, Reshape\n",
    "from keras.models import Sequential\n",
    "\n",
    "model = Sequential()\n",
    "model.add(Conv2D(64, 5, activation='relu', padding='same', input_shape=(512, 512, 3)))\n",
    "model.add(Conv2D(128, 5, activation='relu', padding='same'))\n",
    "model.add(Conv2D(1, 5, activation='sigmoid', padding='same'))\n",
    "model.add(Reshape((512, 512)))"
   ]
  },
  {
   "cell_type": "code",
   "execution_count": 22,
   "metadata": {},
   "outputs": [],
   "source": [
    "import keras.backend as K\n",
    "from keras.optimizers import Adam\n",
    "from keras.losses import binary_crossentropy\n",
    "\n",
    "smooth = 1e-9\n",
    "\n",
    "# This is the competition metric implemented using Keras\n",
    "def dice_coef(y_true, y_pred):\n",
    "    y_true_f = K.flatten(y_true)\n",
    "    y_pred = K.cast(y_pred, 'float32')\n",
    "    y_pred_f = K.cast(K.greater(K.flatten(y_pred), 0.5), 'float32')\n",
    "    intersection = y_true_f * y_pred_f\n",
    "    score = 2. * (K.sum(intersection) + smooth) / (K.sum(y_true_f) + K.sum(y_pred_f) + smooth)\n",
    "    return score\n",
    "\n",
    "# We'll construct a Keras Loss that incorporates the DICE score\n",
    "def dice_loss(y_true, y_pred):\n",
    "    y_true_f = K.flatten(y_true)\n",
    "    y_pred_f = K.flatten(y_pred)\n",
    "    intersection = K.sum(y_true_f * y_pred_f)\n",
    "    return 1. - (2. * intersection + 1.) / (K.sum(y_true_f) + K.sum(y_pred_f) + 1.)\n",
    "\n",
    "\n",
    "def bce_dice_loss(y_true, y_pred):\n",
    "    return 0.5 * binary_crossentropy(y_true, y_pred) + dice_coef(y_true, y_pred)\n",
    "\n",
    "model.compile(Adam(lr=1e-3), bce_dice_loss, metrics=['accuracy', dice_coef])\n",
    "\n",
    "model.compile(Adam(lr=0.01), loss=bce_dice_loss, metrics=[dice_coef])"
   ]
  },
  {
   "cell_type": "markdown",
   "metadata": {},
   "source": [
    "### Keras `fit_generator`\n",
    "\n",
    "Keras follows a similar API to the famous python machine learning library, Scikit-Learn. A Keras model comes with a `fit` method that trains the model using some training data. Since training neural networks on image data often involves data that can be quite memory-intensive, Keras also includes a `fit_generator` method that takes as input a python generator of all the image data. Good thing we know how to make one!\n",
    "\n",
    "See the documentation for [`fit_generator`](https://keras.io/models/sequential/#fit_generator)"
   ]
  },
  {
   "cell_type": "code",
   "execution_count": 23,
   "metadata": {},
   "outputs": [],
   "source": [
    "import numpy as np\n",
    "\n",
    "# Keras takes its input in batches \n",
    "# (i.e. a batch size of 32 would correspond to 32 images and 32 masks from the generator)\n",
    "# The generator should run forever\n",
    "def image_batch_generator(img_paths, batchsize=32):\n",
    "    while True:\n",
    "        ig = image_gen(img_paths)\n",
    "        batch_img, batch_mask = [], []\n",
    "        \n",
    "        for img, mask in ig:\n",
    "            # Add the image and mask to the batch\n",
    "            batch_img.append(img)\n",
    "            batch_mask.append(mask)\n",
    "            # If we've reached our batchsize, yield the batch and reset\n",
    "            if len(batch_img) == batchsize:\n",
    "                yield np.stack(batch_img, axis=0), np.stack(batch_mask, axis=0)\n",
    "                batch_img, batch_mask = [], []\n",
    "        \n",
    "        # If we have an nonempty batch left, yield it out and reset\n",
    "        if len(batch_img) != 0:\n",
    "            yield np.stack(batch_img, axis=0), np.stack(batch_mask, axis=0)\n",
    "            batch_img, batch_mask = [], []    "
   ]
  },
  {
   "cell_type": "code",
   "execution_count": null,
   "metadata": {},
   "outputs": [
    {
     "name": "stdout",
     "output_type": "stream",
     "text": [
      "Epoch 1/15\n",
      " 430/1158 [==========>...................] - ETA: 15:00 - loss: 0.3041 - dice_coef: 1.8477e-04"
     ]
    }
   ],
   "source": [
    "from sklearn.model_selection import train_test_split\n",
    "\n",
    "BATCHSIZE = 8\n",
    "\n",
    "# Split the data into a train and validation set\n",
    "train_img_paths, val_img_paths = train_test_split(train_img_paths, test_size=0.15)\n",
    "\n",
    "# Create the train and validation generators\n",
    "traingen = image_batch_generator(train_img_paths, batchsize=BATCHSIZE)\n",
    "valgen = image_batch_generator(val_img_paths, batchsize=BATCHSIZE)\n",
    "\n",
    "def calc_steps(data_len, batchsize):\n",
    "    return (data_len + batchsize - 1) // batchsize\n",
    "\n",
    "# Calculate the steps per epoch\n",
    "train_steps = calc_steps(len(train_img_paths), BATCHSIZE)\n",
    "val_steps = calc_steps(len(val_img_paths), BATCHSIZE)\n",
    "\n",
    "# Train the model\n",
    "history = model.fit_generator(\n",
    "    traingen, \n",
    "    steps_per_epoch=train_steps, \n",
    "    epochs=15, \n",
    "    validation_data=valgen, \n",
    "    validation_steps=val_steps, \n",
    "    verbose=1,\n",
    "    max_queue_size=5  # Change this number based on memory restrictions\n",
    ")"
   ]
  },
  {
   "cell_type": "code",
   "execution_count": null,
   "metadata": {},
   "outputs": [],
   "source": [
    "import pandas as pd\n",
    "\n",
    "# Plot the training curve\n",
    "pd.DataFrame(history.history)[['loss', 'val_loss']].plot(title=\"Loss\", logy=True)\n",
    "pd.DataFrame(history.history)[['dice_coef', 'val_dice_coef']].plot(title=\"Dice\")"
   ]
  }
 ],
 "metadata": {
  "kernelspec": {
   "display_name": "Python 3",
   "language": "python",
   "name": "python3"
  },
  "language_info": {
   "codemirror_mode": {
    "name": "ipython",
    "version": 3
   },
   "file_extension": ".py",
   "mimetype": "text/x-python",
   "name": "python",
   "nbconvert_exporter": "python",
   "pygments_lexer": "ipython3",
   "version": "3.6.7"
  }
 },
 "nbformat": 4,
 "nbformat_minor": 2
}
